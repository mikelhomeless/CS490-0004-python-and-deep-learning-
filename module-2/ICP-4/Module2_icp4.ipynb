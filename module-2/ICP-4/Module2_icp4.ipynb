{
  "nbformat": 4,
  "nbformat_minor": 0,
  "metadata": {
    "colab": {
      "name": "Module2-icp4.ipynb",
      "provenance": [],
      "collapsed_sections": []
    },
    "kernelspec": {
      "name": "python3",
      "display_name": "Python 3"
    },
    "accelerator": "GPU"
  },
  "cells": [
    {
      "cell_type": "code",
      "metadata": {
        "id": "vG5Vj_Bp5wvh",
        "colab_type": "code",
        "colab": {}
      },
      "source": [
        "import numpy\n",
        "from keras.datasets import cifar10\n",
        "from keras.models import Sequential\n",
        "from keras.layers import Dense\n",
        "from keras.layers import Dropout\n",
        "from keras.layers import Flatten\n",
        "from keras.constraints import maxnorm\n",
        "from keras.optimizers import SGD\n",
        "from keras.layers.convolutional import Conv2D\n",
        "from keras.layers.convolutional import MaxPooling2D\n",
        "from keras.utils import np_utils\n",
        "from keras import backend as K\n",
        "import numpy as np\n",
        "import keras\n"
      ],
      "execution_count": 0,
      "outputs": []
    },
    {
      "cell_type": "code",
      "metadata": {
        "id": "HxxryJk6Gjjr",
        "colab_type": "code",
        "colab": {
          "base_uri": "https://localhost:8080/",
          "height": 51
        },
        "outputId": "aa4acd94-e8bf-4a8a-884e-c15baf72430e"
      },
      "source": [
        "numpy.random.seed(7)\n",
        "# load data\n",
        "(X_train, y_train), (X_test, y_test) = cifar10.load_data()\n",
        "# normalize inputs from 0-255 to 0.0-1.0\n",
        "X_train = X_train.astype('float32')\n",
        "X_test = X_test.astype('float32')\n",
        "X_train = X_train / 255.0\n",
        "X_test = X_test / 255.0\n",
        "# one hot encode outputs\n",
        "y_train = np_utils.to_categorical(y_train)\n",
        "y_test = np_utils.to_categorical(y_test)"
      ],
      "execution_count": 6,
      "outputs": [
        {
          "output_type": "stream",
          "text": [
            "Downloading data from https://www.cs.toronto.edu/~kriz/cifar-10-python.tar.gz\n",
            "170500096/170498071 [==============================] - 2s 0us/step\n"
          ],
          "name": "stdout"
        }
      ]
    },
    {
      "cell_type": "code",
      "metadata": {
        "id": "U_j5KbhHKUIV",
        "colab_type": "code",
        "colab": {
          "base_uri": "https://localhost:8080/",
          "height": 442
        },
        "outputId": "45cf7995-510f-4ef9-8299-6f090f5a4315"
      },
      "source": [
        "num_classes = y_train.shape[1]\n",
        "model = Sequential()\n",
        "model.add(Conv2D(32, (3, 3), input_shape=(32, 32, 3), padding='same', activation='relu', kernel_constraint=maxnorm(3)))\n",
        "model.add(Dropout(0.2))\n",
        "model.add(Conv2D(32, (3, 3), activation='relu', padding='same', kernel_constraint=maxnorm(3)))\n",
        "model.add(MaxPooling2D(pool_size=(2, 2)))\n",
        "model.add(Flatten())\n",
        "model.add(Dense(512, activation='relu', kernel_constraint=maxnorm(3)))\n",
        "model.add(Dropout(0.5))\n",
        "model.add(Dense(num_classes, activation='softmax'))\n",
        "# Compile model\n",
        "epochs = 25\n",
        "lrate = 0.01\n",
        "decay = lrate/epochs\n",
        "sgd = SGD(lr=lrate, momentum=0.9, decay=decay, nesterov=False)\n",
        "model.compile(loss='categorical_crossentropy', optimizer=sgd, metrics=['accuracy'])\n",
        "print(model.summary())"
      ],
      "execution_count": 18,
      "outputs": [
        {
          "output_type": "stream",
          "text": [
            "Model: \"sequential_8\"\n",
            "_________________________________________________________________\n",
            "Layer (type)                 Output Shape              Param #   \n",
            "=================================================================\n",
            "conv2d_15 (Conv2D)           (None, 32, 32, 32)        896       \n",
            "_________________________________________________________________\n",
            "dropout_15 (Dropout)         (None, 32, 32, 32)        0         \n",
            "_________________________________________________________________\n",
            "conv2d_16 (Conv2D)           (None, 32, 32, 32)        9248      \n",
            "_________________________________________________________________\n",
            "max_pooling2d_8 (MaxPooling2 (None, 16, 16, 32)        0         \n",
            "_________________________________________________________________\n",
            "flatten_8 (Flatten)          (None, 8192)              0         \n",
            "_________________________________________________________________\n",
            "dense_15 (Dense)             (None, 512)               4194816   \n",
            "_________________________________________________________________\n",
            "dropout_16 (Dropout)         (None, 512)               0         \n",
            "_________________________________________________________________\n",
            "dense_16 (Dense)             (None, 10)                5130      \n",
            "=================================================================\n",
            "Total params: 4,210,090\n",
            "Trainable params: 4,210,090\n",
            "Non-trainable params: 0\n",
            "_________________________________________________________________\n",
            "None\n"
          ],
          "name": "stdout"
        }
      ]
    },
    {
      "cell_type": "code",
      "metadata": {
        "id": "goeBulmBK5GS",
        "colab_type": "code",
        "colab": {
          "base_uri": "https://localhost:8080/",
          "height": 901
        },
        "outputId": "f8c19153-9ecf-4e94-d412-48967e7f1265"
      },
      "source": [
        "model.fit(X_train, y_train, validation_data=(X_test, y_test), epochs=epochs, batch_size=32)\n",
        "# Final evaluation of the model"
      ],
      "execution_count": 19,
      "outputs": [
        {
          "output_type": "stream",
          "text": [
            "Train on 50000 samples, validate on 10000 samples\n",
            "Epoch 1/25\n",
            "50000/50000 [==============================] - 11s 223us/step - loss: 1.6890 - acc: 0.3894 - val_loss: 1.4107 - val_acc: 0.4923\n",
            "Epoch 2/25\n",
            "50000/50000 [==============================] - 11s 215us/step - loss: 1.3658 - acc: 0.5058 - val_loss: 1.2337 - val_acc: 0.5664\n",
            "Epoch 3/25\n",
            "50000/50000 [==============================] - 11s 215us/step - loss: 1.2041 - acc: 0.5690 - val_loss: 1.1213 - val_acc: 0.6060\n",
            "Epoch 4/25\n",
            "50000/50000 [==============================] - 11s 217us/step - loss: 1.0790 - acc: 0.6173 - val_loss: 1.0705 - val_acc: 0.6213\n",
            "Epoch 5/25\n",
            "50000/50000 [==============================] - 11s 218us/step - loss: 0.9777 - acc: 0.6523 - val_loss: 1.0239 - val_acc: 0.6363\n",
            "Epoch 6/25\n",
            "50000/50000 [==============================] - 11s 216us/step - loss: 0.8912 - acc: 0.6866 - val_loss: 0.9814 - val_acc: 0.6540\n",
            "Epoch 7/25\n",
            "50000/50000 [==============================] - 11s 216us/step - loss: 0.8184 - acc: 0.7090 - val_loss: 0.9706 - val_acc: 0.6632\n",
            "Epoch 8/25\n",
            "50000/50000 [==============================] - 11s 215us/step - loss: 0.7608 - acc: 0.7308 - val_loss: 0.9530 - val_acc: 0.6685\n",
            "Epoch 9/25\n",
            "50000/50000 [==============================] - 11s 216us/step - loss: 0.7023 - acc: 0.7504 - val_loss: 0.9433 - val_acc: 0.6756\n",
            "Epoch 10/25\n",
            "50000/50000 [==============================] - 11s 214us/step - loss: 0.6496 - acc: 0.7676 - val_loss: 0.9406 - val_acc: 0.6780\n",
            "Epoch 11/25\n",
            "50000/50000 [==============================] - 11s 215us/step - loss: 0.6014 - acc: 0.7887 - val_loss: 0.9474 - val_acc: 0.6827\n",
            "Epoch 12/25\n",
            "50000/50000 [==============================] - 11s 217us/step - loss: 0.5553 - acc: 0.8050 - val_loss: 0.9603 - val_acc: 0.6849\n",
            "Epoch 13/25\n",
            "50000/50000 [==============================] - 11s 214us/step - loss: 0.5193 - acc: 0.8170 - val_loss: 0.9542 - val_acc: 0.6897\n",
            "Epoch 14/25\n",
            "50000/50000 [==============================] - 11s 217us/step - loss: 0.4875 - acc: 0.8274 - val_loss: 0.9504 - val_acc: 0.6931\n",
            "Epoch 15/25\n",
            "50000/50000 [==============================] - 11s 220us/step - loss: 0.4571 - acc: 0.8388 - val_loss: 0.9581 - val_acc: 0.6919\n",
            "Epoch 16/25\n",
            "50000/50000 [==============================] - 11s 216us/step - loss: 0.4265 - acc: 0.8491 - val_loss: 0.9606 - val_acc: 0.6945\n",
            "Epoch 17/25\n",
            "50000/50000 [==============================] - 11s 217us/step - loss: 0.3979 - acc: 0.8600 - val_loss: 0.9881 - val_acc: 0.6923\n",
            "Epoch 18/25\n",
            "50000/50000 [==============================] - 11s 219us/step - loss: 0.3779 - acc: 0.8665 - val_loss: 0.9720 - val_acc: 0.6981\n",
            "Epoch 19/25\n",
            "50000/50000 [==============================] - 11s 220us/step - loss: 0.3570 - acc: 0.8731 - val_loss: 0.9974 - val_acc: 0.6969\n",
            "Epoch 20/25\n",
            "50000/50000 [==============================] - 11s 218us/step - loss: 0.3327 - acc: 0.8828 - val_loss: 1.0056 - val_acc: 0.6964\n",
            "Epoch 21/25\n",
            "50000/50000 [==============================] - 11s 217us/step - loss: 0.3180 - acc: 0.8873 - val_loss: 1.0282 - val_acc: 0.6967\n",
            "Epoch 22/25\n",
            "50000/50000 [==============================] - 11s 216us/step - loss: 0.2989 - acc: 0.8949 - val_loss: 1.0320 - val_acc: 0.7014\n",
            "Epoch 23/25\n",
            "50000/50000 [==============================] - 11s 216us/step - loss: 0.2843 - acc: 0.9002 - val_loss: 1.0498 - val_acc: 0.6949\n",
            "Epoch 24/25\n",
            "50000/50000 [==============================] - 11s 217us/step - loss: 0.2706 - acc: 0.9061 - val_loss: 1.0581 - val_acc: 0.6990\n",
            "Epoch 25/25\n",
            "50000/50000 [==============================] - 11s 215us/step - loss: 0.2586 - acc: 0.9115 - val_loss: 1.0736 - val_acc: 0.7009\n",
            "Accuracy: 70.09%\n"
          ],
          "name": "stdout"
        }
      ]
    },
    {
      "cell_type": "markdown",
      "metadata": {
        "id": "DEcB-P25O4Pb",
        "colab_type": "text"
      },
      "source": [
        "Next we will be adding the changes that were requested to us in the icp"
      ]
    },
    {
      "cell_type": "code",
      "metadata": {
        "id": "JJ9tRnZaN1qD",
        "colab_type": "code",
        "colab": {
          "base_uri": "https://localhost:8080/",
          "height": 816
        },
        "outputId": "8a304a63-8d17-4d26-fb49-2eedda9540c0"
      },
      "source": [
        "model2 = Sequential()\n",
        "model2.add(Conv2D(32, (3, 3), input_shape=(32, 32, 3), padding='same', activation='relu'))\n",
        "model2.add(Dropout(0.2))\n",
        "model2.add(Conv2D(32, (3, 3), padding='same', activation='relu'))\n",
        "model2.add(MaxPooling2D(pool_size=(2, 2)))\n",
        "model2.add(Conv2D(64, (3, 3), padding='same', activation='relu'))\n",
        "model2.add(Dropout(0.2))\n",
        "model2.add(Conv2D(64, (3, 3), padding='same', activation='relu'))\n",
        "model2.add(MaxPooling2D(pool_size=(2,2)))\n",
        "model2.add(Conv2D(128, (3, 3), padding='same', activation='relu'))\n",
        "model2.add(Dropout(0.2))\n",
        "model2.add(Conv2D(128, (3, 3), padding='same', activation='relu'))\n",
        "model2.add(MaxPooling2D(pool_size=(2, 2)))\n",
        "model2.add(Flatten())\n",
        "model2.add(Dropout(0.2))\n",
        "model2.add(Dense(1024, activation='relu'))\n",
        "model2.add(Dropout(0.2))\n",
        "model2.add(Dense(512, activation='relu'))\n",
        "model2.add(Dropout(0.2))\n",
        "model2.add(Dense(10, activation='softmax'))\n",
        "model2.compile(loss='categorical_crossentropy', optimizer=sgd, metrics=['accuracy'])\n",
        "print(model2.summary())"
      ],
      "execution_count": 37,
      "outputs": [
        {
          "output_type": "stream",
          "text": [
            "Model: \"sequential_22\"\n",
            "_________________________________________________________________\n",
            "Layer (type)                 Output Shape              Param #   \n",
            "=================================================================\n",
            "conv2d_91 (Conv2D)           (None, 32, 32, 32)        896       \n",
            "_________________________________________________________________\n",
            "dropout_75 (Dropout)         (None, 32, 32, 32)        0         \n",
            "_________________________________________________________________\n",
            "conv2d_92 (Conv2D)           (None, 32, 32, 32)        9248      \n",
            "_________________________________________________________________\n",
            "max_pooling2d_45 (MaxPooling (None, 16, 16, 32)        0         \n",
            "_________________________________________________________________\n",
            "conv2d_93 (Conv2D)           (None, 16, 16, 64)        18496     \n",
            "_________________________________________________________________\n",
            "dropout_76 (Dropout)         (None, 16, 16, 64)        0         \n",
            "_________________________________________________________________\n",
            "conv2d_94 (Conv2D)           (None, 16, 16, 64)        36928     \n",
            "_________________________________________________________________\n",
            "max_pooling2d_46 (MaxPooling (None, 8, 8, 64)          0         \n",
            "_________________________________________________________________\n",
            "conv2d_95 (Conv2D)           (None, 8, 8, 128)         73856     \n",
            "_________________________________________________________________\n",
            "dropout_77 (Dropout)         (None, 8, 8, 128)         0         \n",
            "_________________________________________________________________\n",
            "conv2d_96 (Conv2D)           (None, 8, 8, 128)         147584    \n",
            "_________________________________________________________________\n",
            "max_pooling2d_47 (MaxPooling (None, 4, 4, 128)         0         \n",
            "_________________________________________________________________\n",
            "flatten_20 (Flatten)         (None, 2048)              0         \n",
            "_________________________________________________________________\n",
            "dropout_78 (Dropout)         (None, 2048)              0         \n",
            "_________________________________________________________________\n",
            "dense_38 (Dense)             (None, 1024)              2098176   \n",
            "_________________________________________________________________\n",
            "dropout_79 (Dropout)         (None, 1024)              0         \n",
            "_________________________________________________________________\n",
            "dense_39 (Dense)             (None, 512)               524800    \n",
            "_________________________________________________________________\n",
            "dropout_80 (Dropout)         (None, 512)               0         \n",
            "_________________________________________________________________\n",
            "dense_40 (Dense)             (None, 10)                5130      \n",
            "=================================================================\n",
            "Total params: 2,915,114\n",
            "Trainable params: 2,915,114\n",
            "Non-trainable params: 0\n",
            "_________________________________________________________________\n",
            "None\n"
          ],
          "name": "stdout"
        }
      ]
    },
    {
      "cell_type": "markdown",
      "metadata": {
        "id": "n7IBx6KeVqas",
        "colab_type": "text"
      },
      "source": [
        "So it would appear that for whatever reason, the accuracty of the model went down.... Perhaps it may be possible that we may be doing too many convolutions on the dataset?"
      ]
    },
    {
      "cell_type": "code",
      "metadata": {
        "id": "qD_le_IIW8qE",
        "colab_type": "code",
        "colab": {
          "base_uri": "https://localhost:8080/",
          "height": 1000
        },
        "outputId": "d4660ba0-f430-407b-d614-f70ff0f800a8"
      },
      "source": [
        "tbCallBack = keras.callbacks.TensorBoard(log_dir='./Graph', histogram_freq=0,write_graph=True, write_images=True) \n",
        "model2.fit(X_train, y_train, validation_data=(X_test, y_test), epochs=epochs, batch_size=32, callbacks=[tbCallBack])\n",
        "# Final evaluation of the model\n",
        "scores = model2.evaluate(X_test, y_test, verbose=0)\n",
        "print(\"Accuracy: %.2f%%\" % (scores[1]*100))"
      ],
      "execution_count": 43,
      "outputs": [
        {
          "output_type": "stream",
          "text": [
            "Train on 50000 samples, validate on 10000 samples\n",
            "WARNING:tensorflow:From /usr/local/lib/python3.6/dist-packages/keras/callbacks.py:1122: The name tf.summary.merge_all is deprecated. Please use tf.compat.v1.summary.merge_all instead.\n",
            "\n",
            "WARNING:tensorflow:From /usr/local/lib/python3.6/dist-packages/keras/callbacks.py:1125: The name tf.summary.FileWriter is deprecated. Please use tf.compat.v1.summary.FileWriter instead.\n",
            "\n",
            "Epoch 1/25\n",
            "50000/50000 [==============================] - 13s 267us/step - loss: 2.2898 - acc: 0.1177 - val_loss: 2.2729 - val_acc: 0.2045\n",
            "WARNING:tensorflow:From /usr/local/lib/python3.6/dist-packages/keras/callbacks.py:1265: The name tf.Summary is deprecated. Please use tf.compat.v1.Summary instead.\n",
            "\n",
            "Epoch 2/25\n",
            "50000/50000 [==============================] - 13s 258us/step - loss: 2.1655 - acc: 0.1942 - val_loss: 2.0420 - val_acc: 0.2679\n",
            "Epoch 3/25\n",
            "50000/50000 [==============================] - 13s 260us/step - loss: 2.0077 - acc: 0.2554 - val_loss: 2.0159 - val_acc: 0.2827\n",
            "Epoch 4/25\n",
            "50000/50000 [==============================] - 13s 254us/step - loss: 1.9391 - acc: 0.2893 - val_loss: 1.9308 - val_acc: 0.3223\n",
            "Epoch 5/25\n",
            "50000/50000 [==============================] - 13s 251us/step - loss: 1.8706 - acc: 0.3192 - val_loss: 2.0171 - val_acc: 0.2906\n",
            "Epoch 6/25\n",
            "50000/50000 [==============================] - 13s 253us/step - loss: 1.8022 - acc: 0.3400 - val_loss: 1.8756 - val_acc: 0.3354\n",
            "Epoch 7/25\n",
            "50000/50000 [==============================] - 13s 250us/step - loss: 1.7494 - acc: 0.3574 - val_loss: 1.7944 - val_acc: 0.3606\n",
            "Epoch 8/25\n",
            "50000/50000 [==============================] - 13s 253us/step - loss: 1.7041 - acc: 0.3724 - val_loss: 1.7866 - val_acc: 0.3575\n",
            "Epoch 9/25\n",
            "50000/50000 [==============================] - 13s 252us/step - loss: 1.6682 - acc: 0.3880 - val_loss: 1.7655 - val_acc: 0.3620\n",
            "Epoch 10/25\n",
            "50000/50000 [==============================] - 13s 252us/step - loss: 1.6352 - acc: 0.3968 - val_loss: 1.6612 - val_acc: 0.3956\n",
            "Epoch 11/25\n",
            "50000/50000 [==============================] - 12s 250us/step - loss: 1.6057 - acc: 0.4115 - val_loss: 1.5579 - val_acc: 0.4356\n",
            "Epoch 12/25\n",
            "50000/50000 [==============================] - 13s 252us/step - loss: 1.5732 - acc: 0.4275 - val_loss: 1.6028 - val_acc: 0.4219\n",
            "Epoch 13/25\n",
            "50000/50000 [==============================] - 13s 253us/step - loss: 1.5473 - acc: 0.4344 - val_loss: 1.5235 - val_acc: 0.4563\n",
            "Epoch 14/25\n",
            "50000/50000 [==============================] - 13s 255us/step - loss: 1.5240 - acc: 0.4446 - val_loss: 1.4761 - val_acc: 0.4711\n",
            "Epoch 15/25\n",
            "50000/50000 [==============================] - 13s 255us/step - loss: 1.4956 - acc: 0.4568 - val_loss: 1.4821 - val_acc: 0.4701\n",
            "Epoch 16/25\n",
            "50000/50000 [==============================] - 13s 252us/step - loss: 1.4751 - acc: 0.4633 - val_loss: 1.4631 - val_acc: 0.4742\n",
            "Epoch 17/25\n",
            "50000/50000 [==============================] - 13s 251us/step - loss: 1.4506 - acc: 0.4721 - val_loss: 1.4102 - val_acc: 0.4847\n",
            "Epoch 18/25\n",
            "50000/50000 [==============================] - 13s 255us/step - loss: 1.4256 - acc: 0.4828 - val_loss: 1.3973 - val_acc: 0.4922\n",
            "Epoch 19/25\n",
            "50000/50000 [==============================] - 13s 252us/step - loss: 1.4037 - acc: 0.4917 - val_loss: 1.3874 - val_acc: 0.5022\n",
            "Epoch 20/25\n",
            "50000/50000 [==============================] - 13s 254us/step - loss: 1.3866 - acc: 0.4942 - val_loss: 1.3815 - val_acc: 0.5081\n",
            "Epoch 21/25\n",
            "50000/50000 [==============================] - 13s 254us/step - loss: 1.3653 - acc: 0.5048 - val_loss: 1.3495 - val_acc: 0.5174\n",
            "Epoch 22/25\n",
            "50000/50000 [==============================] - 13s 253us/step - loss: 1.3477 - acc: 0.5131 - val_loss: 1.3158 - val_acc: 0.5294\n",
            "Epoch 23/25\n",
            "50000/50000 [==============================] - 13s 252us/step - loss: 1.3311 - acc: 0.5193 - val_loss: 1.2809 - val_acc: 0.5461\n",
            "Epoch 24/25\n",
            "50000/50000 [==============================] - 13s 250us/step - loss: 1.3092 - acc: 0.5270 - val_loss: 1.2455 - val_acc: 0.5574\n",
            "Epoch 25/25\n",
            "50000/50000 [==============================] - 13s 251us/step - loss: 1.2934 - acc: 0.5347 - val_loss: 1.2512 - val_acc: 0.5514\n",
            "Accuracy: 55.14%\n"
          ],
          "name": "stdout"
        }
      ]
    },
    {
      "cell_type": "code",
      "metadata": {
        "id": "x7T3iBBpgGSy",
        "colab_type": "code",
        "colab": {}
      },
      "source": [
        "!tensorboard --logdir ./Graph"
      ],
      "execution_count": 0,
      "outputs": []
    },
    {
      "cell_type": "markdown",
      "metadata": {
        "id": "A5Vfe-nxgLuO",
        "colab_type": "text"
      },
      "source": [
        "Tensorboard does not run on colab so I had to download the Graph directory and run it locally on my machine."
      ]
    },
    {
      "cell_type": "code",
      "metadata": {
        "id": "xkLbXYsLaJPF",
        "colab_type": "code",
        "colab": {
          "base_uri": "https://localhost:8080/",
          "height": 85
        },
        "outputId": "e22ab798-7d7c-4efd-97dc-38b34dd7bd74"
      },
      "source": [
        "predictions = model2.predict_classes(X_test[:4])\n",
        "mix = zip(predictions, y_test[:4])\n",
        "print('\\n'.join([\"actual: {} predicted: {}\".format(z[0], str(np.where(z[1] == 1)[0])) for z in mix]))"
      ],
      "execution_count": 65,
      "outputs": [
        {
          "output_type": "stream",
          "text": [
            "actual: 3 predicted: [3]\n",
            "actual: 1 predicted: [8]\n",
            "actual: 8 predicted: [8]\n",
            "actual: 8 predicted: [0]\n"
          ],
          "name": "stdout"
        }
      ]
    },
    {
      "cell_type": "markdown",
      "metadata": {
        "id": "fNWOblwbeePT",
        "colab_type": "text"
      },
      "source": [
        "Looks like, out of the ones we tested against, only half of them were acurate"
      ]
    }
  ]
}